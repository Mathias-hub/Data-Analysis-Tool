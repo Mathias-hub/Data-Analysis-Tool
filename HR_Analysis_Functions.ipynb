{
 "nbformat": 4,
 "nbformat_minor": 2,
 "metadata": {
  "language_info": {
   "name": "python",
   "codemirror_mode": {
    "name": "ipython",
    "version": 3
   },
   "version": "3.7.5"
  },
  "orig_nbformat": 2,
  "file_extension": ".py",
  "mimetype": "text/x-python",
  "name": "python",
  "npconvert_exporter": "python",
  "pygments_lexer": "ipython3",
  "version": 3
 },
 "cells": [
  {
   "cell_type": "code",
   "execution_count": 81,
   "metadata": {},
   "outputs": [],
   "source": [
    "import numpy as np\n",
    "\n",
    "def time_domain(RR):\n",
    "        \n",
    "    if np.mean(RR) > 100:\n",
    "        RR = RR/1000\n",
    "\n",
    "    HR = [60/rr for rr in RR] # Calculating HR list\n",
    "\n",
    "    RMSSD = np.sqrt(np.mean(np.square(np.diff(RR))))\n",
    "    AVRR = np.mean(RR)\n",
    "    SDNN = np.std(RR)\n",
    "    SDHR = np.std(HR)\n",
    "    AVHR = np.mean(HR)\n",
    "    HRmin = np.min(HR)\n",
    "    HRmax = np.max(HR)\n",
    "    NNXX = np.sum(np.abs(np.diff(RR)) > 50)*1\n",
    "    PNNX = 100 * NNXX / len(RR)\n",
    "    \n",
    "    return [RMSSD,AVRR,SDNN,AVHR,SDHR,HRmin,HRmax,NNXX]"
   ]
  },
  {
   "cell_type": "code",
   "execution_count": 82,
   "metadata": {},
   "outputs": [
    {
     "data": {
      "text/plain": "[0.3299831645537222,\n 0.8099999999999999,\n 0.27999999999999997,\n 98.52631578947368,\n 70.73684210526315,\n 63.15789473684211,\n 240.0,\n 0]"
     },
     "execution_count": 82,
     "metadata": {},
     "output_type": "execute_result"
    }
   ],
   "source": [
    "RR = np.array([250,950,950,950,950,950,950,950,950,250])\n",
    "\n",
    "RR2 = [0.250,0.950,0.950,0.950,0.950,0.950,0.950,0.950,0.950,0.250]\n",
    "\n",
    "time_domain(RR)\n",
    "\n",
    "#time_domain(RR)"
   ]
  },
  {
   "cell_type": "code",
   "execution_count": null,
   "metadata": {},
   "outputs": [],
   "source": []
  }
 ]
}