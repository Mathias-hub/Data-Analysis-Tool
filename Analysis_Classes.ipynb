{
 "nbformat": 4,
 "nbformat_minor": 2,
 "metadata": {
  "language_info": {
   "name": "python",
   "codemirror_mode": {
    "name": "ipython",
    "version": 3
   },
   "version": "3.7.5"
  },
  "orig_nbformat": 2,
  "file_extension": ".py",
  "mimetype": "text/x-python",
  "name": "python",
  "npconvert_exporter": "python",
  "pygments_lexer": "ipython3",
  "version": 3
 },
 "cells": [
  {
   "cell_type": "code",
   "execution_count": 81,
   "metadata": {},
   "outputs": [],
   "source": [
    "import numpy as np\n",
    "\n",
    "def time_domain(RR):\n",
    "        \n",
    "    if np.mean(RR) > 100:\n",
    "        RR = RR/1000\n",
    "\n",
    "    HR = [60/rr for rr in RR] # Calculating HR list\n",
    "\n",
    "    RMSSD = np.sqrt(np.mean(np.square(np.diff(RR))))\n",
    "    AVRR = np.mean(RR)\n",
    "    SDNN = np.std(RR)\n",
    "    SDHR = np.std(HR)\n",
    "    AVHR = np.mean(HR)\n",
    "    HRmin = np.min(HR)\n",
    "    HRmax = np.max(HR)\n",
    "    NNXX = np.sum(np.abs(np.diff(RR)) > 50)*1\n",
    "    PNNX = 100 * NNXX / len(RR)\n",
    "    \n",
    "    return [RMSSD,AVRR,SDNN,AVHR,SDHR,HRmin,HRmax,NNXX]"
   ]
  },
  {
   "cell_type": "code",
   "execution_count": null,
   "metadata": {},
   "outputs": [],
   "source": []
  }
 ]
}